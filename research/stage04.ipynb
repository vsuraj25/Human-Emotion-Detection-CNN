{
 "cells": [
  {
   "cell_type": "code",
   "execution_count": 1,
   "metadata": {},
   "outputs": [],
   "source": [
    "import os\n",
    "os.chdir('../')"
   ]
  },
  {
   "cell_type": "code",
   "execution_count": 2,
   "metadata": {},
   "outputs": [],
   "source": [
    "from Emotion_Detector.utils import *\n",
    "from Emotion_Detector.utils.model_store import ResNet18\n",
    "from Emotion_Detector.constants import PARAMS_FILE_PATH, CONFIG_FILE_PATH\n",
    "from tensorflow.keras.losses import CategoricalCrossentropy\n",
    "from tensorflow.keras.metrics import CategoricalAccuracy, TopKCategoricalAccuracy\n",
    "from tensorflow.keras.optimizers import Adam\n",
    "from tensorflow.keras.callbacks import ModelCheckpoint, TensorBoard"
   ]
  },
  {
   "cell_type": "code",
   "execution_count": 3,
   "metadata": {},
   "outputs": [],
   "source": [
    "physical_devices = tf.config.list_physical_devices('GPU')\n",
    "if len(physical_devices) > 0:\n",
    "    # Set memory growth to False to allocate the entire GPU memory\n",
    "    tf.config.experimental.set_memory_growth(physical_devices[0], False)"
   ]
  },
  {
   "cell_type": "code",
   "execution_count": 4,
   "metadata": {},
   "outputs": [],
   "source": [
    "from dataclasses import dataclass\n",
    "from pathlib import Path\n",
    "\n",
    "\n",
    "@dataclass(frozen=True)\n",
    "class ResnetModelTrainingConfig:\n",
    "    root_dir: Path\n",
    "    checkpoints_callback_dir : Path\n",
    "    tensorboard_log_dir : Path\n",
    "    model_history_dir : Path\n",
    "    model_dir : Path\n",
    "    model_file_path : str\n",
    "    checkpoints_file_path : str\n",
    "    model_history_file_path : Path\n",
    "    model_accuracy_plot_path : Path\n",
    "    model_loss_plot_path : Path\n",
    "    train_dir: Path\n",
    "    val_dir: Path\n",
    "    param_resnet_epoch: int\n",
    "    param_batch_size: int\n",
    "    all_params : dict"
   ]
  },
  {
   "cell_type": "code",
   "execution_count": 5,
   "metadata": {},
   "outputs": [],
   "source": [
    "class ConfigurationManager:\n",
    "    def __init__(\n",
    "            self,\n",
    "            config_path = CONFIG_FILE_PATH,\n",
    "            params_path = PARAMS_FILE_PATH\n",
    "    ):\n",
    "        self.config = read_yaml(config_path)\n",
    "        self.params = read_yaml(params_path)\n",
    "        create_directories([self.config.artifacts_root])\n",
    "\n",
    "    def get_resnet_model_training_config(self) -> ResnetModelTrainingConfig:\n",
    "        config = self.config.resnet_model_training\n",
    "\n",
    "\n",
    "        create_directories([config.root_dir])\n",
    "        create_directories([config.checkpoints_callback_dir])\n",
    "        create_directories([config.tensorboard_log_dir])\n",
    "        create_directories([config.model_history_dir])\n",
    "        create_directories([config.model_dir])\n",
    "\n",
    "        model_training_config = ResnetModelTrainingConfig(\n",
    "            root_dir = Path(config.root_dir),\n",
    "            checkpoints_callback_dir = Path(config.checkpoints_callback_dir),\n",
    "            tensorboard_log_dir = Path(config.tensorboard_log_dir),\n",
    "            model_history_dir = Path(config.model_history_dir),\n",
    "            model_dir = Path(config.model_dir),\n",
    "            model_file_path =  config.model_file_path,\n",
    "            checkpoints_file_path = config.checkpoints_file_path,\n",
    "            model_history_file_path = Path(config.model_history_file_path),\n",
    "            model_accuracy_plot_path = Path(config.model_accuracy_plot_path),\n",
    "            model_loss_plot_path = Path(config.model_loss_plot_path),\n",
    "            train_dir = Path(config.train_dir),\n",
    "            val_dir = Path(config.val_dir),\n",
    "            param_resnet_epoch= self.params.RESNET_EPOCH,\n",
    "            param_batch_size  = self.params.RESNET_TRAIN_BATCH,\n",
    "            all_params = self.params\n",
    "        )\n",
    "        return model_training_config"
   ]
  },
  {
   "cell_type": "code",
   "execution_count": 6,
   "metadata": {},
   "outputs": [],
   "source": [
    "class Resnet_Model_Training:\n",
    "    def __init__(self, config: ResnetModelTrainingConfig):\n",
    "        self.config = config\n",
    "\n",
    "    def _get_data(self):\n",
    "        train_data, val_data = get_augmented_data(train_dir_path= self.config.train_dir,\n",
    "                                                  val_dir_path= self.config.val_dir,\n",
    "                                                  params= self.config.all_params\n",
    "                                                  )\n",
    "        return train_data, val_data\n",
    "        \n",
    "    def _get_model(self):\n",
    "        input_shape = (1, self.config.all_params['IMAGE_SIZE'], self.config.all_params['IMAGE_SIZE'], 3)\n",
    "        print(self.config.all_params)\n",
    "        lenet_model = ResNet18()\n",
    "        lenet_model.build(input_shape = input_shape)\n",
    "        return lenet_model\n",
    "    \n",
    "    def train_model(self):\n",
    "        \n",
    "        logger.info(f\"Reconstructing the data from tensorflow records...\")\n",
    "        train_data, val_data = self._get_data()\n",
    "        logger.info(f\"Data loaded successfully.\")\n",
    "\n",
    "        logger.info(f\"Geting the Sub Classed Lenet Model...\")\n",
    "        model = self._get_model()\n",
    "        logger.info(f\"Model Loaded Successfully...\")\n",
    "\n",
    "        logger.info(f\"Preparing Checkpoint Callback...\")\n",
    "        checkpoint_callback = ModelCheckpoint(\n",
    "            filepath= self.config.checkpoints_file_path,\n",
    "            save_weights_only=True,\n",
    "            save_best_only=True,\n",
    "            monitor='val_loss',\n",
    "            verbose=1\n",
    "        )\n",
    "\n",
    "        logger.info(f\"Preparing Tensorboard Callback...\")\n",
    "        tensorboard_callback = TensorBoard(log_dir=self.config.tensorboard_log_dir, histogram_freq=1)\n",
    "\n",
    "\n",
    "        loss_function = CategoricalCrossentropy()\n",
    "        metrics = [CategoricalAccuracy(name = \"accuracy\")]\n",
    "\n",
    "        logger.info(f\"Compiling the model...\")\n",
    "        model.compile(\n",
    "                optimizer = Adam(learning_rate= 0.001*10),\n",
    "                loss = loss_function,\n",
    "                metrics = metrics\n",
    "            )\n",
    "        \n",
    "        logger.info(f\"Starting training with {self.config.param_resnet_epoch} epochs and validation data...\")\n",
    "        history = model.fit(train_data,batch_size = 8, epochs = self.config.param_resnet_epoch,validation_data = val_data, callbacks = [checkpoint_callback, tensorboard_callback], verbose = 1)\n",
    "        logger.info(f\"Model Training Completed Successfully.\")\n",
    "        logger.info(f\"Model Summary /n {model.summary()}\")\n",
    "\n",
    "        logger.info(f\"Saving the model at {self.config.model_dir}...\")\n",
    "        model.save(self.config.model_dir, save_format = 'tf')\n",
    "        logger.info(f\"Model successfully saved at {self.config.model_dir}.\")\n",
    "\n",
    "        logger.info(f\"Saving the model history at {self.config.model_history_file_path}...\")\n",
    "        save_json(path = self.config.model_history_file_path, data = history.history)\n",
    "        logger.info(f\"Model history successfully saved at {self.config.model_history_file_path}.\")\n",
    "\n",
    "        logger.info(f\"Saving the model accuracy plot at {self.config.model_accuracy_plot_path}...\")\n",
    "        save_plt_fig(x = history.history['accuracy'],\n",
    "                     y = history.history['val_accuracy'],\n",
    "                     title = \"Model Accuracy\",\n",
    "                     xlabel ='Epochs',\n",
    "                     ylabel = \"Accuracy\",\n",
    "                     legends= ['Train', 'Validation'],\n",
    "                     fig_path = self.config.model_accuracy_plot_path)\n",
    "        \n",
    "        logger.info(f\"Saving the model loss plot at {self.config.model_loss_plot_path}...\")\n",
    "        save_plt_fig(x = history.history['loss'],\n",
    "                     y = history.history['val_loss'],\n",
    "                     title = \"Model loss\",\n",
    "                     xlabel ='Epochs',\n",
    "                     ylabel = \"Loss\",\n",
    "                     legends= ['Train', 'Validation'],\n",
    "                     fig_path = self.config.model_loss_plot_path)\n",
    "        logger.info(f\"Model results saved successfully.\")"
   ]
  },
  {
   "cell_type": "code",
   "execution_count": 7,
   "metadata": {},
   "outputs": [
    {
     "name": "stdout",
     "output_type": "stream",
     "text": [
      "Found 28709 files belonging to 7 classes.\n",
      "Found 7178 files belonging to 7 classes.\n",
      "{'CLASS_NAMES': ['angry', 'disgust', 'fear', 'happy', 'neutral', 'sad', 'surprise'], 'RANDOM_SEED': 22, 'BATCH_SIZE': 32, 'IMAGE_SIZE': 256, 'LEARNING_RATE': 0.001, 'EPOCHS': 50, 'DROPOUT_RATE': 0.0, 'REGULARIZATION_RATE': 0.0, 'N_FILTERS': 6, 'KERNAL_SIZE': 3, 'N_STRIDES': 1, 'POOL_SIZE': 2, 'N_DENSE_1': 100, 'N_DENSE_2': 10, 'NUM_CLASSES': 7, 'SHUFFLE': True, 'TRAIN_NUM_SHARDS': 10, 'TEST_NUM_SHARDS': 5, 'RESNET_EPOCH': 25, 'RESNET_TRAIN_BATCH': 4, 'RANDOM_ROTATION_LEFT_FACTOR': -0.025, 'RANDOM_ROTATION_RIGHT_FACTOR': 0.025, 'RANDOM_FLIP_MODE': 'horizontal', 'RANDOMTRANSLATION_HEIGHT_FACTOR_LEFT': -0.1, 'RANDOMTRANSLATION_HEIGHT_FACTOR_RIGHT': 0.1, 'RANDOMTRANSLATION_WIDTH_FACTOR_LEFT': -0.1, 'RANDOMTRANSLATION_WIDTH_FACTOR_RIGHT': 0.1, 'RANDOM_ZOOM_FACTOR': 0.2}\n",
      "Epoch 1/25\n",
      "898/898 [==============================] - ETA: 0s - loss: 1.9488 - accuracy: 0.2279\n",
      "Epoch 1: val_loss improved from inf to 1.81195, saving model to artifacts/resnet_model_training/model_checkpoints\\model_01.ckpt\n",
      "898/898 [==============================] - 440s 469ms/step - loss: 1.9488 - accuracy: 0.2279 - val_loss: 1.8120 - val_accuracy: 0.2536\n",
      "Epoch 2/25\n",
      "898/898 [==============================] - ETA: 0s - loss: 1.7978 - accuracy: 0.2595\n",
      "Epoch 2: val_loss did not improve from 1.81195\n",
      "898/898 [==============================] - 393s 436ms/step - loss: 1.7978 - accuracy: 0.2595 - val_loss: 2.4011 - val_accuracy: 0.2545\n",
      "Epoch 3/25\n",
      "898/898 [==============================] - ETA: 0s - loss: 1.7312 - accuracy: 0.3034\n",
      "Epoch 3: val_loss did not improve from 1.81195\n",
      "898/898 [==============================] - 394s 435ms/step - loss: 1.7312 - accuracy: 0.3034 - val_loss: 1.8148 - val_accuracy: 0.3112\n",
      "Epoch 4/25\n",
      "898/898 [==============================] - ETA: 0s - loss: 1.5070 - accuracy: 0.4240\n",
      "Epoch 4: val_loss did not improve from 1.81195\n",
      "898/898 [==============================] - 403s 447ms/step - loss: 1.5070 - accuracy: 0.4240 - val_loss: 2.0517 - val_accuracy: 0.3031\n",
      "Epoch 5/25\n",
      "898/898 [==============================] - ETA: 0s - loss: 1.3576 - accuracy: 0.4962\n",
      "Epoch 5: val_loss improved from 1.81195 to 1.43190, saving model to artifacts/resnet_model_training/model_checkpoints\\model_05.ckpt\n",
      "898/898 [==============================] - 480s 527ms/step - loss: 1.3576 - accuracy: 0.4962 - val_loss: 1.4319 - val_accuracy: 0.4596\n",
      "Epoch 6/25\n",
      "898/898 [==============================] - ETA: 0s - loss: 1.2691 - accuracy: 0.5314\n",
      "Epoch 6: val_loss improved from 1.43190 to 1.26349, saving model to artifacts/resnet_model_training/model_checkpoints\\model_06.ckpt\n",
      "898/898 [==============================] - 383s 423ms/step - loss: 1.2691 - accuracy: 0.5314 - val_loss: 1.2635 - val_accuracy: 0.5361\n",
      "Epoch 7/25\n",
      "898/898 [==============================] - ETA: 0s - loss: 1.2105 - accuracy: 0.5559\n",
      "Epoch 7: val_loss did not improve from 1.26349\n",
      "898/898 [==============================] - 376s 415ms/step - loss: 1.2105 - accuracy: 0.5559 - val_loss: 3.1015 - val_accuracy: 0.4172\n",
      "Epoch 8/25\n",
      "898/898 [==============================] - ETA: 0s - loss: 1.1626 - accuracy: 0.5731\n",
      "Epoch 8: val_loss did not improve from 1.26349\n",
      "898/898 [==============================] - 372s 410ms/step - loss: 1.1626 - accuracy: 0.5731 - val_loss: 1.9948 - val_accuracy: 0.4746\n",
      "Epoch 9/25\n",
      "898/898 [==============================] - ETA: 0s - loss: 1.1290 - accuracy: 0.5870\n",
      "Epoch 9: val_loss did not improve from 1.26349\n",
      "898/898 [==============================] - 376s 415ms/step - loss: 1.1290 - accuracy: 0.5870 - val_loss: 1.3096 - val_accuracy: 0.5216\n",
      "Epoch 10/25\n",
      "898/898 [==============================] - ETA: 0s - loss: 1.0952 - accuracy: 0.5997\n",
      "Epoch 10: val_loss did not improve from 1.26349\n",
      "898/898 [==============================] - 377s 417ms/step - loss: 1.0952 - accuracy: 0.5997 - val_loss: 1.3264 - val_accuracy: 0.5302\n",
      "Epoch 11/25\n",
      "898/898 [==============================] - ETA: 0s - loss: 1.0648 - accuracy: 0.6152\n",
      "Epoch 11: val_loss did not improve from 1.26349\n",
      "898/898 [==============================] - 404s 448ms/step - loss: 1.0648 - accuracy: 0.6152 - val_loss: 1.2967 - val_accuracy: 0.5219\n",
      "Epoch 12/25\n",
      "898/898 [==============================] - ETA: 0s - loss: 1.0420 - accuracy: 0.6204\n",
      "Epoch 12: val_loss did not improve from 1.26349\n",
      "898/898 [==============================] - 406s 450ms/step - loss: 1.0420 - accuracy: 0.6204 - val_loss: 1.3118 - val_accuracy: 0.5267\n",
      "Epoch 13/25\n",
      "898/898 [==============================] - ETA: 0s - loss: 1.0119 - accuracy: 0.6353\n",
      "Epoch 13: val_loss did not improve from 1.26349\n",
      "898/898 [==============================] - 407s 449ms/step - loss: 1.0119 - accuracy: 0.6353 - val_loss: 1.3180 - val_accuracy: 0.5756\n",
      "Epoch 14/25\n",
      "898/898 [==============================] - ETA: 0s - loss: 0.9926 - accuracy: 0.6408\n",
      "Epoch 14: val_loss improved from 1.26349 to 1.24796, saving model to artifacts/resnet_model_training/model_checkpoints\\model_14.ckpt\n",
      "898/898 [==============================] - 406s 449ms/step - loss: 0.9926 - accuracy: 0.6408 - val_loss: 1.2480 - val_accuracy: 0.5295\n",
      "Epoch 15/25\n",
      "345/898 [==========>...................] - ETA: 3:49 - loss: 0.9796 - accuracy: 0.6494"
     ]
    },
    {
     "ename": "ResourceExhaustedError",
     "evalue": "Graph execution error:\n\nDetected at node 'gradient_tape/resnet_18/custom_conv2d/batch_normalization/FusedBatchNormGradV3' defined at (most recent call last):\n    File \"c:\\Users\\sv255\\anaconda3\\envs\\py37gpu\\lib\\runpy.py\", line 193, in _run_module_as_main\n      \"__main__\", mod_spec)\n    File \"c:\\Users\\sv255\\anaconda3\\envs\\py37gpu\\lib\\runpy.py\", line 85, in _run_code\n      exec(code, run_globals)\n    File \"c:\\Users\\sv255\\anaconda3\\envs\\py37gpu\\lib\\site-packages\\ipykernel_launcher.py\", line 17, in <module>\n      app.launch_new_instance()\n    File \"c:\\Users\\sv255\\anaconda3\\envs\\py37gpu\\lib\\site-packages\\traitlets\\config\\application.py\", line 1043, in launch_instance\n      app.start()\n    File \"c:\\Users\\sv255\\anaconda3\\envs\\py37gpu\\lib\\site-packages\\ipykernel\\kernelapp.py\", line 712, in start\n      self.io_loop.start()\n    File \"c:\\Users\\sv255\\anaconda3\\envs\\py37gpu\\lib\\site-packages\\tornado\\platform\\asyncio.py\", line 215, in start\n      self.asyncio_loop.run_forever()\n    File \"c:\\Users\\sv255\\anaconda3\\envs\\py37gpu\\lib\\asyncio\\base_events.py\", line 539, in run_forever\n      self._run_once()\n    File \"c:\\Users\\sv255\\anaconda3\\envs\\py37gpu\\lib\\asyncio\\base_events.py\", line 1775, in _run_once\n      handle._run()\n    File \"c:\\Users\\sv255\\anaconda3\\envs\\py37gpu\\lib\\asyncio\\events.py\", line 88, in _run\n      self._context.run(self._callback, *self._args)\n    File \"c:\\Users\\sv255\\anaconda3\\envs\\py37gpu\\lib\\site-packages\\ipykernel\\kernelbase.py\", line 510, in dispatch_queue\n      await self.process_one()\n    File \"c:\\Users\\sv255\\anaconda3\\envs\\py37gpu\\lib\\site-packages\\ipykernel\\kernelbase.py\", line 499, in process_one\n      await dispatch(*args)\n    File \"c:\\Users\\sv255\\anaconda3\\envs\\py37gpu\\lib\\site-packages\\ipykernel\\kernelbase.py\", line 406, in dispatch_shell\n      await result\n    File \"c:\\Users\\sv255\\anaconda3\\envs\\py37gpu\\lib\\site-packages\\ipykernel\\kernelbase.py\", line 730, in execute_request\n      reply_content = await reply_content\n    File \"c:\\Users\\sv255\\anaconda3\\envs\\py37gpu\\lib\\site-packages\\ipykernel\\ipkernel.py\", line 387, in do_execute\n      cell_id=cell_id,\n    File \"c:\\Users\\sv255\\anaconda3\\envs\\py37gpu\\lib\\site-packages\\ipykernel\\zmqshell.py\", line 528, in run_cell\n      return super().run_cell(*args, **kwargs)\n    File \"c:\\Users\\sv255\\anaconda3\\envs\\py37gpu\\lib\\site-packages\\IPython\\core\\interactiveshell.py\", line 2975, in run_cell\n      raw_cell, store_history, silent, shell_futures, cell_id\n    File \"c:\\Users\\sv255\\anaconda3\\envs\\py37gpu\\lib\\site-packages\\IPython\\core\\interactiveshell.py\", line 3029, in _run_cell\n      return runner(coro)\n    File \"c:\\Users\\sv255\\anaconda3\\envs\\py37gpu\\lib\\site-packages\\IPython\\core\\async_helpers.py\", line 78, in _pseudo_sync_runner\n      coro.send(None)\n    File \"c:\\Users\\sv255\\anaconda3\\envs\\py37gpu\\lib\\site-packages\\IPython\\core\\interactiveshell.py\", line 3257, in run_cell_async\n      interactivity=interactivity, compiler=compiler, result=result)\n    File \"c:\\Users\\sv255\\anaconda3\\envs\\py37gpu\\lib\\site-packages\\IPython\\core\\interactiveshell.py\", line 3472, in run_ast_nodes\n      if (await self.run_code(code, result,  async_=asy)):\n    File \"c:\\Users\\sv255\\anaconda3\\envs\\py37gpu\\lib\\site-packages\\IPython\\core\\interactiveshell.py\", line 3552, in run_code\n      exec(code_obj, self.user_global_ns, self.user_ns)\n    File \"C:\\Users\\sv255\\AppData\\Local\\Temp\\ipykernel_14836\\225592097.py\", line 5, in <module>\n      model_trainer.train_model()\n    File \"C:\\Users\\sv255\\AppData\\Local\\Temp\\ipykernel_14836\\1902641002.py\", line 53, in train_model\n      history = model.fit(train_data,batch_size = 8, epochs = self.config.param_resnet_epoch,validation_data = val_data, callbacks = [checkpoint_callback, tensorboard_callback], verbose = 1)\n    File \"c:\\Users\\sv255\\anaconda3\\envs\\py37gpu\\lib\\site-packages\\keras\\utils\\traceback_utils.py\", line 65, in error_handler\n      return fn(*args, **kwargs)\n    File \"c:\\Users\\sv255\\anaconda3\\envs\\py37gpu\\lib\\site-packages\\keras\\engine\\training.py\", line 1564, in fit\n      tmp_logs = self.train_function(iterator)\n    File \"c:\\Users\\sv255\\anaconda3\\envs\\py37gpu\\lib\\site-packages\\keras\\engine\\training.py\", line 1160, in train_function\n      return step_function(self, iterator)\n    File \"c:\\Users\\sv255\\anaconda3\\envs\\py37gpu\\lib\\site-packages\\keras\\engine\\training.py\", line 1146, in step_function\n      outputs = model.distribute_strategy.run(run_step, args=(data,))\n    File \"c:\\Users\\sv255\\anaconda3\\envs\\py37gpu\\lib\\site-packages\\keras\\engine\\training.py\", line 1135, in run_step\n      outputs = model.train_step(data)\n    File \"c:\\Users\\sv255\\anaconda3\\envs\\py37gpu\\lib\\site-packages\\keras\\engine\\training.py\", line 997, in train_step\n      self.optimizer.minimize(loss, self.trainable_variables, tape=tape)\n    File \"c:\\Users\\sv255\\anaconda3\\envs\\py37gpu\\lib\\site-packages\\keras\\optimizers\\optimizer_v2\\optimizer_v2.py\", line 577, in minimize\n      loss, var_list=var_list, grad_loss=grad_loss, tape=tape\n    File \"c:\\Users\\sv255\\anaconda3\\envs\\py37gpu\\lib\\site-packages\\keras\\optimizers\\optimizer_v2\\optimizer_v2.py\", line 635, in _compute_gradients\n      tape, loss, var_list, grad_loss\n    File \"c:\\Users\\sv255\\anaconda3\\envs\\py37gpu\\lib\\site-packages\\keras\\optimizers\\optimizer_v2\\optimizer_v2.py\", line 510, in _get_gradients\n      grads = tape.gradient(loss, var_list, grad_loss)\nNode: 'gradient_tape/resnet_18/custom_conv2d/batch_normalization/FusedBatchNormGradV3'\nOOM when allocating tensor with shape[32,64,128,128] and type float on /job:localhost/replica:0/task:0/device:GPU:0 by allocator GPU_0_bfc\n\t [[{{node gradient_tape/resnet_18/custom_conv2d/batch_normalization/FusedBatchNormGradV3}}]]\nHint: If you want to see a list of allocated tensors when OOM happens, add report_tensor_allocations_upon_oom to RunOptions for current allocation info. This isn't available when running in Eager mode.\n [Op:__inference_train_function_13168]",
     "output_type": "error",
     "traceback": [
      "\u001b[1;31m---------------------------------------------------------------------------\u001b[0m",
      "\u001b[1;31mResourceExhaustedError\u001b[0m                    Traceback (most recent call last)",
      "\u001b[1;32m~\\AppData\\Local\\Temp\\ipykernel_14836\\225592097.py\u001b[0m in \u001b[0;36m<module>\u001b[1;34m\u001b[0m\n\u001b[0;32m      5\u001b[0m     \u001b[0mmodel_trainer\u001b[0m\u001b[1;33m.\u001b[0m\u001b[0mtrain_model\u001b[0m\u001b[1;33m(\u001b[0m\u001b[1;33m)\u001b[0m\u001b[1;33m\u001b[0m\u001b[1;33m\u001b[0m\u001b[0m\n\u001b[0;32m      6\u001b[0m \u001b[1;32mexcept\u001b[0m \u001b[0mException\u001b[0m \u001b[1;32mas\u001b[0m \u001b[0me\u001b[0m\u001b[1;33m:\u001b[0m\u001b[1;33m\u001b[0m\u001b[1;33m\u001b[0m\u001b[0m\n\u001b[1;32m----> 7\u001b[1;33m     \u001b[1;32mraise\u001b[0m \u001b[0me\u001b[0m\u001b[1;33m\u001b[0m\u001b[1;33m\u001b[0m\u001b[0m\n\u001b[0m",
      "\u001b[1;32m~\\AppData\\Local\\Temp\\ipykernel_14836\\225592097.py\u001b[0m in \u001b[0;36m<module>\u001b[1;34m\u001b[0m\n\u001b[0;32m      3\u001b[0m     \u001b[0mresnet_model_training_config\u001b[0m \u001b[1;33m=\u001b[0m \u001b[0mconfig\u001b[0m\u001b[1;33m.\u001b[0m\u001b[0mget_resnet_model_training_config\u001b[0m\u001b[1;33m(\u001b[0m\u001b[1;33m)\u001b[0m\u001b[1;33m\u001b[0m\u001b[1;33m\u001b[0m\u001b[0m\n\u001b[0;32m      4\u001b[0m     \u001b[0mmodel_trainer\u001b[0m \u001b[1;33m=\u001b[0m \u001b[0mResnet_Model_Training\u001b[0m\u001b[1;33m(\u001b[0m\u001b[0mconfig\u001b[0m \u001b[1;33m=\u001b[0m \u001b[0mresnet_model_training_config\u001b[0m\u001b[1;33m)\u001b[0m\u001b[1;33m\u001b[0m\u001b[1;33m\u001b[0m\u001b[0m\n\u001b[1;32m----> 5\u001b[1;33m     \u001b[0mmodel_trainer\u001b[0m\u001b[1;33m.\u001b[0m\u001b[0mtrain_model\u001b[0m\u001b[1;33m(\u001b[0m\u001b[1;33m)\u001b[0m\u001b[1;33m\u001b[0m\u001b[1;33m\u001b[0m\u001b[0m\n\u001b[0m\u001b[0;32m      6\u001b[0m \u001b[1;32mexcept\u001b[0m \u001b[0mException\u001b[0m \u001b[1;32mas\u001b[0m \u001b[0me\u001b[0m\u001b[1;33m:\u001b[0m\u001b[1;33m\u001b[0m\u001b[1;33m\u001b[0m\u001b[0m\n\u001b[0;32m      7\u001b[0m     \u001b[1;32mraise\u001b[0m \u001b[0me\u001b[0m\u001b[1;33m\u001b[0m\u001b[1;33m\u001b[0m\u001b[0m\n",
      "\u001b[1;32m~\\AppData\\Local\\Temp\\ipykernel_14836\\1902641002.py\u001b[0m in \u001b[0;36mtrain_model\u001b[1;34m(self)\u001b[0m\n\u001b[0;32m     51\u001b[0m \u001b[1;33m\u001b[0m\u001b[0m\n\u001b[0;32m     52\u001b[0m         \u001b[0mlogger\u001b[0m\u001b[1;33m.\u001b[0m\u001b[0minfo\u001b[0m\u001b[1;33m(\u001b[0m\u001b[1;34mf\"Starting training with {self.config.param_resnet_epoch} epochs and validation data...\"\u001b[0m\u001b[1;33m)\u001b[0m\u001b[1;33m\u001b[0m\u001b[1;33m\u001b[0m\u001b[0m\n\u001b[1;32m---> 53\u001b[1;33m         \u001b[0mhistory\u001b[0m \u001b[1;33m=\u001b[0m \u001b[0mmodel\u001b[0m\u001b[1;33m.\u001b[0m\u001b[0mfit\u001b[0m\u001b[1;33m(\u001b[0m\u001b[0mtrain_data\u001b[0m\u001b[1;33m,\u001b[0m\u001b[0mbatch_size\u001b[0m \u001b[1;33m=\u001b[0m \u001b[1;36m8\u001b[0m\u001b[1;33m,\u001b[0m \u001b[0mepochs\u001b[0m \u001b[1;33m=\u001b[0m \u001b[0mself\u001b[0m\u001b[1;33m.\u001b[0m\u001b[0mconfig\u001b[0m\u001b[1;33m.\u001b[0m\u001b[0mparam_resnet_epoch\u001b[0m\u001b[1;33m,\u001b[0m\u001b[0mvalidation_data\u001b[0m \u001b[1;33m=\u001b[0m \u001b[0mval_data\u001b[0m\u001b[1;33m,\u001b[0m \u001b[0mcallbacks\u001b[0m \u001b[1;33m=\u001b[0m \u001b[1;33m[\u001b[0m\u001b[0mcheckpoint_callback\u001b[0m\u001b[1;33m,\u001b[0m \u001b[0mtensorboard_callback\u001b[0m\u001b[1;33m]\u001b[0m\u001b[1;33m,\u001b[0m \u001b[0mverbose\u001b[0m \u001b[1;33m=\u001b[0m \u001b[1;36m1\u001b[0m\u001b[1;33m)\u001b[0m\u001b[1;33m\u001b[0m\u001b[1;33m\u001b[0m\u001b[0m\n\u001b[0m\u001b[0;32m     54\u001b[0m         \u001b[0mlogger\u001b[0m\u001b[1;33m.\u001b[0m\u001b[0minfo\u001b[0m\u001b[1;33m(\u001b[0m\u001b[1;34mf\"Model Training Completed Successfully.\"\u001b[0m\u001b[1;33m)\u001b[0m\u001b[1;33m\u001b[0m\u001b[1;33m\u001b[0m\u001b[0m\n\u001b[0;32m     55\u001b[0m         \u001b[0mlogger\u001b[0m\u001b[1;33m.\u001b[0m\u001b[0minfo\u001b[0m\u001b[1;33m(\u001b[0m\u001b[1;34mf\"Model Summary /n {model.summary()}\"\u001b[0m\u001b[1;33m)\u001b[0m\u001b[1;33m\u001b[0m\u001b[1;33m\u001b[0m\u001b[0m\n",
      "\u001b[1;32mc:\\Users\\sv255\\anaconda3\\envs\\py37gpu\\lib\\site-packages\\keras\\utils\\traceback_utils.py\u001b[0m in \u001b[0;36merror_handler\u001b[1;34m(*args, **kwargs)\u001b[0m\n\u001b[0;32m     68\u001b[0m             \u001b[1;31m# To get the full stack trace, call:\u001b[0m\u001b[1;33m\u001b[0m\u001b[1;33m\u001b[0m\u001b[1;33m\u001b[0m\u001b[0m\n\u001b[0;32m     69\u001b[0m             \u001b[1;31m# `tf.debugging.disable_traceback_filtering()`\u001b[0m\u001b[1;33m\u001b[0m\u001b[1;33m\u001b[0m\u001b[1;33m\u001b[0m\u001b[0m\n\u001b[1;32m---> 70\u001b[1;33m             \u001b[1;32mraise\u001b[0m \u001b[0me\u001b[0m\u001b[1;33m.\u001b[0m\u001b[0mwith_traceback\u001b[0m\u001b[1;33m(\u001b[0m\u001b[0mfiltered_tb\u001b[0m\u001b[1;33m)\u001b[0m \u001b[1;32mfrom\u001b[0m \u001b[1;32mNone\u001b[0m\u001b[1;33m\u001b[0m\u001b[1;33m\u001b[0m\u001b[0m\n\u001b[0m\u001b[0;32m     71\u001b[0m         \u001b[1;32mfinally\u001b[0m\u001b[1;33m:\u001b[0m\u001b[1;33m\u001b[0m\u001b[1;33m\u001b[0m\u001b[0m\n\u001b[0;32m     72\u001b[0m             \u001b[1;32mdel\u001b[0m \u001b[0mfiltered_tb\u001b[0m\u001b[1;33m\u001b[0m\u001b[1;33m\u001b[0m\u001b[0m\n",
      "\u001b[1;32mc:\\Users\\sv255\\anaconda3\\envs\\py37gpu\\lib\\site-packages\\tensorflow\\python\\eager\\execute.py\u001b[0m in \u001b[0;36mquick_execute\u001b[1;34m(op_name, num_outputs, inputs, attrs, ctx, name)\u001b[0m\n\u001b[0;32m     53\u001b[0m     \u001b[0mctx\u001b[0m\u001b[1;33m.\u001b[0m\u001b[0mensure_initialized\u001b[0m\u001b[1;33m(\u001b[0m\u001b[1;33m)\u001b[0m\u001b[1;33m\u001b[0m\u001b[1;33m\u001b[0m\u001b[0m\n\u001b[0;32m     54\u001b[0m     tensors = pywrap_tfe.TFE_Py_Execute(ctx._handle, device_name, op_name,\n\u001b[1;32m---> 55\u001b[1;33m                                         inputs, attrs, num_outputs)\n\u001b[0m\u001b[0;32m     56\u001b[0m   \u001b[1;32mexcept\u001b[0m \u001b[0mcore\u001b[0m\u001b[1;33m.\u001b[0m\u001b[0m_NotOkStatusException\u001b[0m \u001b[1;32mas\u001b[0m \u001b[0me\u001b[0m\u001b[1;33m:\u001b[0m\u001b[1;33m\u001b[0m\u001b[1;33m\u001b[0m\u001b[0m\n\u001b[0;32m     57\u001b[0m     \u001b[1;32mif\u001b[0m \u001b[0mname\u001b[0m \u001b[1;32mis\u001b[0m \u001b[1;32mnot\u001b[0m \u001b[1;32mNone\u001b[0m\u001b[1;33m:\u001b[0m\u001b[1;33m\u001b[0m\u001b[1;33m\u001b[0m\u001b[0m\n",
      "\u001b[1;31mResourceExhaustedError\u001b[0m: Graph execution error:\n\nDetected at node 'gradient_tape/resnet_18/custom_conv2d/batch_normalization/FusedBatchNormGradV3' defined at (most recent call last):\n    File \"c:\\Users\\sv255\\anaconda3\\envs\\py37gpu\\lib\\runpy.py\", line 193, in _run_module_as_main\n      \"__main__\", mod_spec)\n    File \"c:\\Users\\sv255\\anaconda3\\envs\\py37gpu\\lib\\runpy.py\", line 85, in _run_code\n      exec(code, run_globals)\n    File \"c:\\Users\\sv255\\anaconda3\\envs\\py37gpu\\lib\\site-packages\\ipykernel_launcher.py\", line 17, in <module>\n      app.launch_new_instance()\n    File \"c:\\Users\\sv255\\anaconda3\\envs\\py37gpu\\lib\\site-packages\\traitlets\\config\\application.py\", line 1043, in launch_instance\n      app.start()\n    File \"c:\\Users\\sv255\\anaconda3\\envs\\py37gpu\\lib\\site-packages\\ipykernel\\kernelapp.py\", line 712, in start\n      self.io_loop.start()\n    File \"c:\\Users\\sv255\\anaconda3\\envs\\py37gpu\\lib\\site-packages\\tornado\\platform\\asyncio.py\", line 215, in start\n      self.asyncio_loop.run_forever()\n    File \"c:\\Users\\sv255\\anaconda3\\envs\\py37gpu\\lib\\asyncio\\base_events.py\", line 539, in run_forever\n      self._run_once()\n    File \"c:\\Users\\sv255\\anaconda3\\envs\\py37gpu\\lib\\asyncio\\base_events.py\", line 1775, in _run_once\n      handle._run()\n    File \"c:\\Users\\sv255\\anaconda3\\envs\\py37gpu\\lib\\asyncio\\events.py\", line 88, in _run\n      self._context.run(self._callback, *self._args)\n    File \"c:\\Users\\sv255\\anaconda3\\envs\\py37gpu\\lib\\site-packages\\ipykernel\\kernelbase.py\", line 510, in dispatch_queue\n      await self.process_one()\n    File \"c:\\Users\\sv255\\anaconda3\\envs\\py37gpu\\lib\\site-packages\\ipykernel\\kernelbase.py\", line 499, in process_one\n      await dispatch(*args)\n    File \"c:\\Users\\sv255\\anaconda3\\envs\\py37gpu\\lib\\site-packages\\ipykernel\\kernelbase.py\", line 406, in dispatch_shell\n      await result\n    File \"c:\\Users\\sv255\\anaconda3\\envs\\py37gpu\\lib\\site-packages\\ipykernel\\kernelbase.py\", line 730, in execute_request\n      reply_content = await reply_content\n    File \"c:\\Users\\sv255\\anaconda3\\envs\\py37gpu\\lib\\site-packages\\ipykernel\\ipkernel.py\", line 387, in do_execute\n      cell_id=cell_id,\n    File \"c:\\Users\\sv255\\anaconda3\\envs\\py37gpu\\lib\\site-packages\\ipykernel\\zmqshell.py\", line 528, in run_cell\n      return super().run_cell(*args, **kwargs)\n    File \"c:\\Users\\sv255\\anaconda3\\envs\\py37gpu\\lib\\site-packages\\IPython\\core\\interactiveshell.py\", line 2975, in run_cell\n      raw_cell, store_history, silent, shell_futures, cell_id\n    File \"c:\\Users\\sv255\\anaconda3\\envs\\py37gpu\\lib\\site-packages\\IPython\\core\\interactiveshell.py\", line 3029, in _run_cell\n      return runner(coro)\n    File \"c:\\Users\\sv255\\anaconda3\\envs\\py37gpu\\lib\\site-packages\\IPython\\core\\async_helpers.py\", line 78, in _pseudo_sync_runner\n      coro.send(None)\n    File \"c:\\Users\\sv255\\anaconda3\\envs\\py37gpu\\lib\\site-packages\\IPython\\core\\interactiveshell.py\", line 3257, in run_cell_async\n      interactivity=interactivity, compiler=compiler, result=result)\n    File \"c:\\Users\\sv255\\anaconda3\\envs\\py37gpu\\lib\\site-packages\\IPython\\core\\interactiveshell.py\", line 3472, in run_ast_nodes\n      if (await self.run_code(code, result,  async_=asy)):\n    File \"c:\\Users\\sv255\\anaconda3\\envs\\py37gpu\\lib\\site-packages\\IPython\\core\\interactiveshell.py\", line 3552, in run_code\n      exec(code_obj, self.user_global_ns, self.user_ns)\n    File \"C:\\Users\\sv255\\AppData\\Local\\Temp\\ipykernel_14836\\225592097.py\", line 5, in <module>\n      model_trainer.train_model()\n    File \"C:\\Users\\sv255\\AppData\\Local\\Temp\\ipykernel_14836\\1902641002.py\", line 53, in train_model\n      history = model.fit(train_data,batch_size = 8, epochs = self.config.param_resnet_epoch,validation_data = val_data, callbacks = [checkpoint_callback, tensorboard_callback], verbose = 1)\n    File \"c:\\Users\\sv255\\anaconda3\\envs\\py37gpu\\lib\\site-packages\\keras\\utils\\traceback_utils.py\", line 65, in error_handler\n      return fn(*args, **kwargs)\n    File \"c:\\Users\\sv255\\anaconda3\\envs\\py37gpu\\lib\\site-packages\\keras\\engine\\training.py\", line 1564, in fit\n      tmp_logs = self.train_function(iterator)\n    File \"c:\\Users\\sv255\\anaconda3\\envs\\py37gpu\\lib\\site-packages\\keras\\engine\\training.py\", line 1160, in train_function\n      return step_function(self, iterator)\n    File \"c:\\Users\\sv255\\anaconda3\\envs\\py37gpu\\lib\\site-packages\\keras\\engine\\training.py\", line 1146, in step_function\n      outputs = model.distribute_strategy.run(run_step, args=(data,))\n    File \"c:\\Users\\sv255\\anaconda3\\envs\\py37gpu\\lib\\site-packages\\keras\\engine\\training.py\", line 1135, in run_step\n      outputs = model.train_step(data)\n    File \"c:\\Users\\sv255\\anaconda3\\envs\\py37gpu\\lib\\site-packages\\keras\\engine\\training.py\", line 997, in train_step\n      self.optimizer.minimize(loss, self.trainable_variables, tape=tape)\n    File \"c:\\Users\\sv255\\anaconda3\\envs\\py37gpu\\lib\\site-packages\\keras\\optimizers\\optimizer_v2\\optimizer_v2.py\", line 577, in minimize\n      loss, var_list=var_list, grad_loss=grad_loss, tape=tape\n    File \"c:\\Users\\sv255\\anaconda3\\envs\\py37gpu\\lib\\site-packages\\keras\\optimizers\\optimizer_v2\\optimizer_v2.py\", line 635, in _compute_gradients\n      tape, loss, var_list, grad_loss\n    File \"c:\\Users\\sv255\\anaconda3\\envs\\py37gpu\\lib\\site-packages\\keras\\optimizers\\optimizer_v2\\optimizer_v2.py\", line 510, in _get_gradients\n      grads = tape.gradient(loss, var_list, grad_loss)\nNode: 'gradient_tape/resnet_18/custom_conv2d/batch_normalization/FusedBatchNormGradV3'\nOOM when allocating tensor with shape[32,64,128,128] and type float on /job:localhost/replica:0/task:0/device:GPU:0 by allocator GPU_0_bfc\n\t [[{{node gradient_tape/resnet_18/custom_conv2d/batch_normalization/FusedBatchNormGradV3}}]]\nHint: If you want to see a list of allocated tensors when OOM happens, add report_tensor_allocations_upon_oom to RunOptions for current allocation info. This isn't available when running in Eager mode.\n [Op:__inference_train_function_13168]"
     ]
    }
   ],
   "source": [
    "try:\n",
    "    config = ConfigurationManager()\n",
    "    resnet_model_training_config = config.get_resnet_model_training_config()\n",
    "    model_trainer = Resnet_Model_Training(config = resnet_model_training_config)\n",
    "    model_trainer.train_model() \n",
    "except Exception as e:\n",
    "    raise e"
   ]
  },
  {
   "cell_type": "code",
   "execution_count": 8,
   "metadata": {},
   "outputs": [
    {
     "ename": "OSError",
     "evalue": "SavedModel file does not exist at: artifacts/resnet_model_training/model_checkpoints\\model_14.ckpt\\{saved_model.pbtxt|saved_model.pb}",
     "output_type": "error",
     "traceback": [
      "\u001b[1;31m---------------------------------------------------------------------------\u001b[0m",
      "\u001b[1;31mOSError\u001b[0m                                   Traceback (most recent call last)",
      "\u001b[1;32m~\\AppData\\Local\\Temp\\ipykernel_14836\\100999922.py\u001b[0m in \u001b[0;36m<module>\u001b[1;34m\u001b[0m\n\u001b[1;32m----> 1\u001b[1;33m \u001b[0mmodel\u001b[0m \u001b[1;33m=\u001b[0m \u001b[0mtf\u001b[0m\u001b[1;33m.\u001b[0m\u001b[0msaved_model\u001b[0m\u001b[1;33m.\u001b[0m\u001b[0mload\u001b[0m\u001b[1;33m(\u001b[0m\u001b[1;34m\"artifacts/resnet_model_training/model_checkpoints\\model_14.ckpt\"\u001b[0m\u001b[1;33m)\u001b[0m\u001b[1;33m\u001b[0m\u001b[1;33m\u001b[0m\u001b[0m\n\u001b[0m",
      "\u001b[1;32mc:\\Users\\sv255\\anaconda3\\envs\\py37gpu\\lib\\site-packages\\tensorflow\\python\\saved_model\\load.py\u001b[0m in \u001b[0;36mload\u001b[1;34m(export_dir, tags, options)\u001b[0m\n\u001b[0;32m    798\u001b[0m   \u001b[1;32mif\u001b[0m \u001b[0misinstance\u001b[0m\u001b[1;33m(\u001b[0m\u001b[0mexport_dir\u001b[0m\u001b[1;33m,\u001b[0m \u001b[0mos\u001b[0m\u001b[1;33m.\u001b[0m\u001b[0mPathLike\u001b[0m\u001b[1;33m)\u001b[0m\u001b[1;33m:\u001b[0m\u001b[1;33m\u001b[0m\u001b[1;33m\u001b[0m\u001b[0m\n\u001b[0;32m    799\u001b[0m     \u001b[0mexport_dir\u001b[0m \u001b[1;33m=\u001b[0m \u001b[0mos\u001b[0m\u001b[1;33m.\u001b[0m\u001b[0mfspath\u001b[0m\u001b[1;33m(\u001b[0m\u001b[0mexport_dir\u001b[0m\u001b[1;33m)\u001b[0m\u001b[1;33m\u001b[0m\u001b[1;33m\u001b[0m\u001b[0m\n\u001b[1;32m--> 800\u001b[1;33m   \u001b[0mresult\u001b[0m \u001b[1;33m=\u001b[0m \u001b[0mload_partial\u001b[0m\u001b[1;33m(\u001b[0m\u001b[0mexport_dir\u001b[0m\u001b[1;33m,\u001b[0m \u001b[1;32mNone\u001b[0m\u001b[1;33m,\u001b[0m \u001b[0mtags\u001b[0m\u001b[1;33m,\u001b[0m \u001b[0moptions\u001b[0m\u001b[1;33m)\u001b[0m\u001b[1;33m[\u001b[0m\u001b[1;34m\"root\"\u001b[0m\u001b[1;33m]\u001b[0m\u001b[1;33m\u001b[0m\u001b[1;33m\u001b[0m\u001b[0m\n\u001b[0m\u001b[0;32m    801\u001b[0m   \u001b[1;32mreturn\u001b[0m \u001b[0mresult\u001b[0m\u001b[1;33m\u001b[0m\u001b[1;33m\u001b[0m\u001b[0m\n\u001b[0;32m    802\u001b[0m \u001b[1;33m\u001b[0m\u001b[0m\n",
      "\u001b[1;32mc:\\Users\\sv255\\anaconda3\\envs\\py37gpu\\lib\\site-packages\\tensorflow\\python\\saved_model\\load.py\u001b[0m in \u001b[0;36mload_partial\u001b[1;34m(export_dir, filters, tags, options)\u001b[0m\n\u001b[0;32m    903\u001b[0m     \u001b[0mtags\u001b[0m \u001b[1;33m=\u001b[0m \u001b[0mnest\u001b[0m\u001b[1;33m.\u001b[0m\u001b[0mflatten\u001b[0m\u001b[1;33m(\u001b[0m\u001b[0mtags\u001b[0m\u001b[1;33m)\u001b[0m\u001b[1;33m\u001b[0m\u001b[1;33m\u001b[0m\u001b[0m\n\u001b[0;32m    904\u001b[0m   saved_model_proto, debug_info = (\n\u001b[1;32m--> 905\u001b[1;33m       loader_impl.parse_saved_model_with_debug_info(export_dir))\n\u001b[0m\u001b[0;32m    906\u001b[0m \u001b[1;33m\u001b[0m\u001b[0m\n\u001b[0;32m    907\u001b[0m   if (len(saved_model_proto.meta_graphs) == 1 and\n",
      "\u001b[1;32mc:\\Users\\sv255\\anaconda3\\envs\\py37gpu\\lib\\site-packages\\tensorflow\\python\\saved_model\\loader_impl.py\u001b[0m in \u001b[0;36mparse_saved_model_with_debug_info\u001b[1;34m(export_dir)\u001b[0m\n\u001b[0;32m     55\u001b[0m     \u001b[0mparsed\u001b[0m\u001b[1;33m.\u001b[0m \u001b[0mMissing\u001b[0m \u001b[0mgraph\u001b[0m \u001b[0mdebug\u001b[0m \u001b[0minfo\u001b[0m \u001b[0mfile\u001b[0m \u001b[1;32mis\u001b[0m \u001b[0mfine\u001b[0m\u001b[1;33m.\u001b[0m\u001b[1;33m\u001b[0m\u001b[1;33m\u001b[0m\u001b[0m\n\u001b[0;32m     56\u001b[0m   \"\"\"\n\u001b[1;32m---> 57\u001b[1;33m   \u001b[0msaved_model\u001b[0m \u001b[1;33m=\u001b[0m \u001b[0mparse_saved_model\u001b[0m\u001b[1;33m(\u001b[0m\u001b[0mexport_dir\u001b[0m\u001b[1;33m)\u001b[0m\u001b[1;33m\u001b[0m\u001b[1;33m\u001b[0m\u001b[0m\n\u001b[0m\u001b[0;32m     58\u001b[0m \u001b[1;33m\u001b[0m\u001b[0m\n\u001b[0;32m     59\u001b[0m   debug_info_path = file_io.join(\n",
      "\u001b[1;32mc:\\Users\\sv255\\anaconda3\\envs\\py37gpu\\lib\\site-packages\\tensorflow\\python\\saved_model\\loader_impl.py\u001b[0m in \u001b[0;36mparse_saved_model\u001b[1;34m(export_dir)\u001b[0m\n\u001b[0;32m    114\u001b[0m   \u001b[1;32melse\u001b[0m\u001b[1;33m:\u001b[0m\u001b[1;33m\u001b[0m\u001b[1;33m\u001b[0m\u001b[0m\n\u001b[0;32m    115\u001b[0m     raise IOError(\n\u001b[1;32m--> 116\u001b[1;33m         \u001b[1;34mf\"SavedModel file does not exist at: {export_dir}{os.path.sep}\"\u001b[0m\u001b[1;33m\u001b[0m\u001b[1;33m\u001b[0m\u001b[0m\n\u001b[0m\u001b[0;32m    117\u001b[0m         \u001b[1;34mf\"{{{constants.SAVED_MODEL_FILENAME_PBTXT}|\"\u001b[0m\u001b[1;33m\u001b[0m\u001b[1;33m\u001b[0m\u001b[0m\n\u001b[0;32m    118\u001b[0m         f\"{constants.SAVED_MODEL_FILENAME_PB}}}\")\n",
      "\u001b[1;31mOSError\u001b[0m: SavedModel file does not exist at: artifacts/resnet_model_training/model_checkpoints\\model_14.ckpt\\{saved_model.pbtxt|saved_model.pb}"
     ]
    }
   ],
   "source": [
    "model = tf.saved_model.load(\"artifacts/resnet_model_training/model_checkpoints\\model_14.ckpt\")"
   ]
  },
  {
   "cell_type": "code",
   "execution_count": null,
   "metadata": {},
   "outputs": [],
   "source": []
  },
  {
   "cell_type": "code",
   "execution_count": null,
   "metadata": {},
   "outputs": [],
   "source": []
  },
  {
   "cell_type": "code",
   "execution_count": null,
   "metadata": {},
   "outputs": [],
   "source": []
  },
  {
   "cell_type": "code",
   "execution_count": null,
   "metadata": {},
   "outputs": [],
   "source": []
  },
  {
   "cell_type": "code",
   "execution_count": null,
   "metadata": {},
   "outputs": [],
   "source": []
  },
  {
   "cell_type": "code",
   "execution_count": null,
   "metadata": {},
   "outputs": [],
   "source": []
  },
  {
   "cell_type": "code",
   "execution_count": null,
   "metadata": {},
   "outputs": [],
   "source": []
  },
  {
   "cell_type": "code",
   "execution_count": null,
   "metadata": {},
   "outputs": [],
   "source": []
  },
  {
   "cell_type": "code",
   "execution_count": null,
   "metadata": {},
   "outputs": [],
   "source": []
  },
  {
   "cell_type": "code",
   "execution_count": null,
   "metadata": {},
   "outputs": [],
   "source": []
  },
  {
   "cell_type": "code",
   "execution_count": null,
   "metadata": {},
   "outputs": [],
   "source": []
  },
  {
   "cell_type": "code",
   "execution_count": null,
   "metadata": {},
   "outputs": [],
   "source": []
  },
  {
   "cell_type": "code",
   "execution_count": null,
   "metadata": {},
   "outputs": [],
   "source": []
  },
  {
   "cell_type": "code",
   "execution_count": null,
   "metadata": {},
   "outputs": [],
   "source": []
  },
  {
   "cell_type": "code",
   "execution_count": null,
   "metadata": {},
   "outputs": [],
   "source": [
    "from Emotion_Detector.utils import reconstruct_data_from_tfrecords"
   ]
  },
  {
   "cell_type": "code",
   "execution_count": null,
   "metadata": {},
   "outputs": [],
   "source": [
    "import os\n",
    "os.chdir('../')"
   ]
  },
  {
   "cell_type": "code",
   "execution_count": null,
   "metadata": {},
   "outputs": [],
   "source": [
    "path = 'artifacts/data_preprocessing/train_tfrecords/shard_{:02d}.tfrecord'\n",
    "num_shards = 10\n",
    "batch_size = 32"
   ]
  },
  {
   "cell_type": "code",
   "execution_count": null,
   "metadata": {},
   "outputs": [],
   "source": [
    "parsed_data = reconstruct_data_from_tfrecords(path, num_shards, batch_size )"
   ]
  }
 ],
 "metadata": {
  "kernelspec": {
   "display_name": "py37gpu",
   "language": "python",
   "name": "python3"
  },
  "language_info": {
   "codemirror_mode": {
    "name": "ipython",
    "version": 3
   },
   "file_extension": ".py",
   "mimetype": "text/x-python",
   "name": "python",
   "nbconvert_exporter": "python",
   "pygments_lexer": "ipython3",
   "version": "3.7.2"
  },
  "orig_nbformat": 4
 },
 "nbformat": 4,
 "nbformat_minor": 2
}
