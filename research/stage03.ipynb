{
 "cells": [
  {
   "cell_type": "code",
   "execution_count": 1,
   "metadata": {},
   "outputs": [],
   "source": [
    "import os\n",
    "os.chdir('../')"
   ]
  },
  {
   "cell_type": "code",
   "execution_count": 18,
   "metadata": {},
   "outputs": [],
   "source": [
    "from Emotion_Detector.utils import *\n",
    "from Emotion_Detector.utils.model_store import LenetModel\n",
    "from Emotion_Detector.constants import PARAMS_FILE_PATH, CONFIG_FILE_PATH\n",
    "from tensorflow.keras.losses import SparseCategoricalCrossentropy\n",
    "from tensorflow.keras.metrics import SparseCategoricalAccuracy\n",
    "from tensorflow.keras.optimizers import Adam\n",
    "from tensorflow.keras.callbacks import ModelCheckpoint, TensorBoard"
   ]
  },
  {
   "cell_type": "code",
   "execution_count": 19,
   "metadata": {},
   "outputs": [],
   "source": [
    "from dataclasses import dataclass\n",
    "from pathlib import Path\n",
    "\n",
    "\n",
    "@dataclass(frozen=True)\n",
    "class ModelTrainingConfig:\n",
    "    root_dir: Path\n",
    "    callback_dir : Path\n",
    "    tensorboard_log_dir : Path\n",
    "    model_history_dir : Path\n",
    "    model_dir : Path\n",
    "    model_file_path : str\n",
    "    callback_file_path : str\n",
    "    model_history_file_path : Path\n",
    "    train_tf_records_file_path : str\n",
    "    test_tf_records_file_path : str\n",
    "    param_image_size : int\n",
    "    param_learning_rate : float\n",
    "    param_epochs : int\n",
    "    param_train_num_shards : int\n",
    "    param_test_num_shards : int\n",
    "    param_batch_size : int\n",
    "    all_params : dict"
   ]
  },
  {
   "cell_type": "code",
   "execution_count": 20,
   "metadata": {},
   "outputs": [],
   "source": [
    "class ConfigurationManager:\n",
    "    def __init__(\n",
    "            self,\n",
    "            config_path = CONFIG_FILE_PATH,\n",
    "            params_path = PARAMS_FILE_PATH\n",
    "    ):\n",
    "        self.config = read_yaml(config_path)\n",
    "        self.params = read_yaml(params_path)\n",
    "        create_directories([self.config.artifacts_root])\n",
    "\n",
    "    def get_model_training_config(self) -> ModelTrainingConfig:\n",
    "        config = self.config.model_training\n",
    "\n",
    "\n",
    "        create_directories([config.root_dir])\n",
    "        create_directories([config.callback_dir])\n",
    "        create_directories([config.tensorboard_log_dir])\n",
    "        create_directories([config.model_history_dir])\n",
    "        create_directories([config.model_dir])\n",
    "\n",
    "        model_training_config = ModelTrainingConfig(\n",
    "            root_dir = Path(config.root_dir),\n",
    "            callback_dir = Path(config.callback_dir),\n",
    "            tensorboard_log_dir = Path(config.tensorboard_log_dir),\n",
    "            model_history_dir = Path(config.model_history_dir),\n",
    "            model_dir = Path(config.model_dir),\n",
    "            model_file_path =  config.model_file_path,\n",
    "            callback_file_path = config.callback_file_path,\n",
    "            model_history_file_path = Path(config.model_history_file_path),\n",
    "            train_tf_records_file_path = config.train_tf_records_file_path,\n",
    "            test_tf_records_file_path = config.test_tf_records_file_path,\n",
    "            param_image_size = self.params.IMAGE_SIZE,\n",
    "            param_learning_rate =  self.params.LEARNING_RATE,\n",
    "            param_epochs = self.params.EPOCHS,\n",
    "            param_train_num_shards = self.params.TRAIN_NUM_SHARDS,\n",
    "            param_test_num_shards = self.params.TEST_NUM_SHARDS,\n",
    "            param_batch_size = self.params.BATCH_SIZE,\n",
    "            all_params = self.params\n",
    "        )\n",
    "        return model_training_config"
   ]
  },
  {
   "cell_type": "code",
   "execution_count": 21,
   "metadata": {},
   "outputs": [],
   "source": [
    "class Model_Training:\n",
    "    def __init__(self, config: ModelTrainingConfig):\n",
    "        self.config = config\n",
    "\n",
    "    def _get_data(self):\n",
    "        train_data = reconstruct_data_from_tfrecords(path = self.config.train_tf_records_file_path,\n",
    "                                                    num_shards= self.config.param_train_num_shards, \n",
    "                                                    batch_size = self.config.param_batch_size )\n",
    "        val_data = reconstruct_data_from_tfrecords(path = self.config.test_tf_records_file_path,\n",
    "                                                    num_shards= self.config.param_test_num_shards, \n",
    "                                                    batch_size = self.config.param_batch_size )\n",
    "        return train_data, val_data\n",
    "        \n",
    "    def _get_model(self):\n",
    "        input_shape = (1, self.config.param_image_size, self.config.param_image_size, 3)\n",
    "        print(self.config.all_params)\n",
    "        lenet_model = LenetModel(configurations = self.config.all_params)\n",
    "        lenet_model.build(input_shape = input_shape)\n",
    "        return lenet_model\n",
    "    \n",
    "    def train_model(self):\n",
    "\n",
    "        train_data, val_data = self._get_data()\n",
    "        model = self._get_model()\n",
    "\n",
    "        checkpoint_callback = ModelCheckpoint(\n",
    "            filepath= self.config.callback_file_path,\n",
    "            save_weights_only=True,\n",
    "            save_best_only=True,\n",
    "            monitor='val_loss',\n",
    "            verbose=1\n",
    "        )\n",
    "\n",
    "        tensorboard_callback = TensorBoard(log_dir=self.config.tensorboard_log_dir, histogram_freq=1)\n",
    "\n",
    "\n",
    "        loss_function = SparseCategoricalCrossentropy()\n",
    "        metrics = [SparseCategoricalAccuracy(name = \"accuracy\")]\n",
    "\n",
    "        model.compile(\n",
    "                optimizer = Adam(learning_rate= self.config.param_learning_rate),\n",
    "                loss = loss_function,\n",
    "                metrics = metrics\n",
    "            )\n",
    "        \n",
    "        history = model.fit(train_data, epochs = self.config.param_epochs,validation_data = val_data, callbacks = [checkpoint_callback, tensorboard_callback], verbose = 1)\n",
    "\n",
    "        save_json(path = self.config.model_history_file_path, data = history.history)\n",
    "\n",
    "        model.save(self.config.model_dir, save_format = 'tf')\n",
    "\n",
    "        print('Model Training Complete')"
   ]
  },
  {
   "cell_type": "code",
   "execution_count": 22,
   "metadata": {},
   "outputs": [
    {
     "name": "stdout",
     "output_type": "stream",
     "text": [
      "{'CLASS_NAMES': ['angry', 'disgust', 'fear', 'happy', 'neutral', 'sad', 'surprise'], 'RANDOM_SEED': 22, 'BATCH_SIZE': 32, 'IMAGE_SIZE': 256, 'LEARNING_RATE': 0.001, 'EPOCHS': 3, 'DROPOUT_RATE': 0.0, 'REGULARIZATION_RATE': 0.0, 'N_FILTERS': 6, 'KERNAL_SIZE': 3, 'N_STRIDES': 1, 'POOL_SIZE': 2, 'N_DENSE_1': 100, 'N_DENSE_2': 10, 'NUM_CLASSES': 7, 'SHUFFLE': True, 'TRAIN_NUM_SHARDS': 10, 'TEST_NUM_SHARDS': 5, 'RANDOM_ROTATION_LEFT_FACTOR': -0.025, 'RANDOM_ROTATION_RIGHT_FACTOR': 0.025, 'RANDOM_FLIP_MODE': 'horizontal', 'RANDOM_CONTRAST_FACTOR': 0.1}\n",
      "Epoch 1/3\n",
      "    897/Unknown - 74s 81ms/step - loss: 1.8849 - accuracy: 0.2381\n",
      "Epoch 1: val_loss improved from inf to 1.92501, saving model to artifacts/model_training/model_callbacks\\model_01.ckpt\n",
      "898/898 [==============================] - 84s 92ms/step - loss: 1.8848 - accuracy: 0.2381 - val_loss: 1.9250 - val_accuracy: 0.1686\n",
      "Epoch 2/3\n",
      "897/898 [============================>.] - ETA: 0s - loss: 1.5029 - accuracy: 0.4230\n",
      "Epoch 2: val_loss did not improve from 1.92501\n",
      "898/898 [==============================] - 80s 89ms/step - loss: 1.5028 - accuracy: 0.4230 - val_loss: 2.2895 - val_accuracy: 0.1627\n",
      "Epoch 3/3\n",
      "897/898 [============================>.] - ETA: 0s - loss: 0.7189 - accuracy: 0.7614\n",
      "Epoch 3: val_loss did not improve from 1.92501\n",
      "898/898 [==============================] - 74s 82ms/step - loss: 0.7189 - accuracy: 0.7614 - val_loss: 5.0224 - val_accuracy: 0.2531\n",
      "Model Training Complete\n"
     ]
    }
   ],
   "source": [
    "try:\n",
    "    config = ConfigurationManager()\n",
    "    model_training_config = config.get_model_training_config()\n",
    "    model_trainer = Model_Training(config = model_training_config)\n",
    "    model_trainer.train_model()\n",
    "except Exception as e:\n",
    "    raise e"
   ]
  },
  {
   "cell_type": "code",
   "execution_count": null,
   "metadata": {},
   "outputs": [],
   "source": []
  },
  {
   "cell_type": "code",
   "execution_count": null,
   "metadata": {},
   "outputs": [],
   "source": []
  },
  {
   "cell_type": "code",
   "execution_count": null,
   "metadata": {},
   "outputs": [],
   "source": []
  },
  {
   "cell_type": "code",
   "execution_count": null,
   "metadata": {},
   "outputs": [],
   "source": []
  },
  {
   "cell_type": "code",
   "execution_count": null,
   "metadata": {},
   "outputs": [],
   "source": []
  },
  {
   "cell_type": "code",
   "execution_count": null,
   "metadata": {},
   "outputs": [],
   "source": []
  },
  {
   "cell_type": "code",
   "execution_count": null,
   "metadata": {},
   "outputs": [],
   "source": []
  },
  {
   "cell_type": "code",
   "execution_count": null,
   "metadata": {},
   "outputs": [],
   "source": []
  },
  {
   "cell_type": "code",
   "execution_count": null,
   "metadata": {},
   "outputs": [],
   "source": []
  },
  {
   "cell_type": "code",
   "execution_count": null,
   "metadata": {},
   "outputs": [],
   "source": []
  },
  {
   "cell_type": "code",
   "execution_count": null,
   "metadata": {},
   "outputs": [],
   "source": []
  },
  {
   "cell_type": "code",
   "execution_count": null,
   "metadata": {},
   "outputs": [],
   "source": []
  },
  {
   "cell_type": "code",
   "execution_count": null,
   "metadata": {},
   "outputs": [],
   "source": []
  },
  {
   "cell_type": "code",
   "execution_count": null,
   "metadata": {},
   "outputs": [],
   "source": []
  },
  {
   "cell_type": "code",
   "execution_count": null,
   "metadata": {},
   "outputs": [],
   "source": []
  },
  {
   "cell_type": "code",
   "execution_count": null,
   "metadata": {},
   "outputs": [],
   "source": []
  },
  {
   "cell_type": "code",
   "execution_count": null,
   "metadata": {},
   "outputs": [],
   "source": []
  },
  {
   "cell_type": "code",
   "execution_count": null,
   "metadata": {},
   "outputs": [],
   "source": []
  },
  {
   "cell_type": "code",
   "execution_count": null,
   "metadata": {},
   "outputs": [],
   "source": [
    "from Emotion_Detector.utils import reconstruct_data_from_tfrecords"
   ]
  },
  {
   "cell_type": "code",
   "execution_count": null,
   "metadata": {},
   "outputs": [],
   "source": [
    "import os\n",
    "os.chdir('../')"
   ]
  },
  {
   "cell_type": "code",
   "execution_count": null,
   "metadata": {},
   "outputs": [],
   "source": [
    "path = 'artifacts/data_preprocessing/train_tfrecords/shard_{:02d}.tfrecord'\n",
    "num_shards = 10\n",
    "batch_size = 32"
   ]
  },
  {
   "cell_type": "code",
   "execution_count": null,
   "metadata": {},
   "outputs": [],
   "source": [
    "parsed_data = reconstruct_data_from_tfrecords(path, num_shards, batch_size )"
   ]
  }
 ],
 "metadata": {
  "kernelspec": {
   "display_name": "py37gpu",
   "language": "python",
   "name": "python3"
  },
  "language_info": {
   "codemirror_mode": {
    "name": "ipython",
    "version": 3
   },
   "file_extension": ".py",
   "mimetype": "text/x-python",
   "name": "python",
   "nbconvert_exporter": "python",
   "pygments_lexer": "ipython3",
   "version": "3.7.2"
  },
  "orig_nbformat": 4
 },
 "nbformat": 4,
 "nbformat_minor": 2
}
