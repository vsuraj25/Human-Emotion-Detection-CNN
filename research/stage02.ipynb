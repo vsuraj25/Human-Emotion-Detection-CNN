{
 "cells": [
  {
   "cell_type": "code",
   "execution_count": 7,
   "metadata": {},
   "outputs": [],
   "source": [
    "import os\n",
    "os.chdir('../')"
   ]
  },
  {
   "cell_type": "code",
   "execution_count": 23,
   "metadata": {},
   "outputs": [],
   "source": [
    "from dataclasses import dataclass\n",
    "from pathlib import Path\n",
    "\n",
    "\n",
    "@dataclass(frozen=True)\n",
    "class DataPreprocessingConfig:\n",
    "    root_dir: Path\n",
    "    train_dir: Path\n",
    "    val_dir: Path\n",
    "    train_tf_records_dir : Path\n",
    "    test_tf_records_dir : Path\n",
    "    train_tf_records_file_path : str\n",
    "    test_tf_records_file_path : str\n",
    "    params_batch_size : int\n",
    "    params_class_names : list\n",
    "    params_image_size : int\n",
    "    params_shuffle : bool\n",
    "    params_random_seed : int\n",
    "    params_train_num_shards : int\n",
    "    params_test_num_shards : int\n",
    "    param_random_rotation_left_factor: float\n",
    "    param_random_rotation_right_factor: float\n",
    "    param_random_flip_mode: str\n",
    "    param_random_contrast_factor: float"
   ]
  },
  {
   "cell_type": "code",
   "execution_count": 2,
   "metadata": {},
   "outputs": [],
   "source": [
    "from Emotion_Detector.constants import PARAMS_FILE_PATH, CONFIG_FILE_PATH\n",
    "from Emotion_Detector.utils import *\n",
    "from tensorflow.keras.layers import RandomFlip, RandomRotation,RandomContrast"
   ]
  },
  {
   "cell_type": "code",
   "execution_count": 27,
   "metadata": {},
   "outputs": [],
   "source": [
    "class ConfigurationManager:\n",
    "    def __init__(\n",
    "            self,\n",
    "            config_path = CONFIG_FILE_PATH,\n",
    "            params_path = PARAMS_FILE_PATH\n",
    "    ):\n",
    "        self.config = read_yaml(config_path)\n",
    "        self.params = read_yaml(params_path)\n",
    "        create_directories([self.config.artifacts_root])\n",
    "\n",
    "    def get_data_preprocessing_config(self) -> DataPreprocessingConfig:\n",
    "        config = self.config.data_preprocessing\n",
    "\n",
    "\n",
    "        create_directories([config.root_dir])\n",
    "        create_directories([config.train_tf_records_dir])\n",
    "        create_directories([config.test_tf_records_dir])\n",
    "\n",
    "        data_preprocessing_config = DataPreprocessingConfig(\n",
    "            root_dir = Path(config.root_dir),\n",
    "            train_dir = Path(config.train_dir),\n",
    "            val_dir = Path(config.val_dir),\n",
    "            train_tf_records_dir = Path(config.train_tf_records_dir),\n",
    "            test_tf_records_dir = Path(config.test_tf_records_dir),\n",
    "            train_tf_records_file_path = config.train_tf_records_file_path,\n",
    "            test_tf_records_file_path = config.test_tf_records_file_path,\n",
    "            params_batch_size = self.params.BATCH_SIZE,\n",
    "            params_class_names = self.params.CLASS_NAMES,\n",
    "            params_image_size = self.params.IMAGE_SIZE,\n",
    "            params_shuffle = self.params.SHUFFLE,\n",
    "            params_random_seed = self.params.RANDOM_SEED,\n",
    "            params_train_num_shards = self.params.TRAIN_NUM_SHARDS,\n",
    "            params_test_num_shards = self.params.TEST_NUM_SHARDS,\n",
    "            param_random_rotation_left_factor = self.params.RANDOM_ROTATION_LEFT_FACTOR,\n",
    "            param_random_rotation_right_factor = self.params.RANDOM_ROTATION_RIGHT_FACTOR,\n",
    "            param_random_flip_mode = self.params.RANDOM_FLIP_MODE,\n",
    "            param_random_contrast_factor = self.params.RANDOM_CONTRAST_FACTOR\n",
    "        )\n",
    "        return data_preprocessing_config"
   ]
  },
  {
   "cell_type": "code",
   "execution_count": 43,
   "metadata": {},
   "outputs": [],
   "source": [
    "class Data_Preprocessing:\n",
    "    def __init__(self, config: DataPreprocessingConfig):\n",
    "        self.config = config\n",
    "\n",
    "    \n",
    "    def _load_data_from_directory(self):\n",
    "        train_data = tf.keras.utils.image_dataset_from_directory(\n",
    "            self.config.train_dir,\n",
    "            labels='inferred', ## consider file as class\n",
    "            label_mode='categorical', ## factorized classes\n",
    "            class_names=self.config.params_class_names, ## Defined class name as per subdirectories\n",
    "            color_mode='rgb',\n",
    "            batch_size=self.config.params_batch_size,\n",
    "            image_size=(self.config.params_image_size, self.config.params_image_size),\n",
    "            shuffle=self.config.params_shuffle,\n",
    "            seed=self.config.params_random_seed\n",
    "        )\n",
    "\n",
    "\n",
    "        val_data = tf.keras.utils.image_dataset_from_directory(\n",
    "            self.config.val_dir,\n",
    "            labels='inferred', ## consider file as class\n",
    "            label_mode='categorical', ## factorized classes\n",
    "            class_names=self.config.params_class_names, ## Defined class name as per subdirectories\n",
    "            color_mode='rgb',\n",
    "            batch_size=self.config.params_batch_size,\n",
    "            image_size=(self.config.params_image_size, self.config.params_image_size),\n",
    "            shuffle=self.config.params_shuffle,\n",
    "            seed=self.config.params_random_seed\n",
    "        )\n",
    "\n",
    "        return train_data, val_data\n",
    "    \n",
    "    \n",
    "    def _augment_data(self, train_data):\n",
    "\n",
    "        augment_layers = tf.keras.Sequential([\n",
    "            RandomRotation(factor = (self.config.param_random_rotation_left_factor, self.config.param_random_rotation_right_factor)),\n",
    "            RandomFlip(mode = self.config.param_random_flip_mode),\n",
    "            RandomContrast(factor = self.config.param_random_contrast_factor)\n",
    "        ])\n",
    "\n",
    "        def augment_layer(image, label):\n",
    "            return augment_layers(image, training = True), label\n",
    "        \n",
    "        train_data = (\n",
    "            train_data.map(augment_layer, num_parallel_calls=tf.data.AUTOTUNE)#.prefetch(tf.data.AUTOTUNE)\n",
    "        )\n",
    "\n",
    "        return train_data\n",
    "    \n",
    "    def preprocess_and_create_tf_records(self):\n",
    "\n",
    "        train_data, val_data = self._load_data_from_directory()\n",
    "        train_data = self._augment_data(train_data)\n",
    "\n",
    "        train_data = (train_data.unbatch())\n",
    "        val_data = (val_data.unbatch())\n",
    "\n",
    "        encoded_train_data = (train_data.map(image_to_byte_encoder))\n",
    "        encoded_val_data = (val_data.map(image_to_byte_encoder))\n",
    "\n",
    "        if (os.path.exists(self.config.train_tf_records_dir) and \n",
    "            len(os.listdir(self.config.train_tf_records_dir)) == self.config.params_train_num_shards):\n",
    "\n",
    "            print('Train tf records already exists!')\n",
    "\n",
    "        else:\n",
    "            print('Creating tf records for train set...') \n",
    "            write_tf_records(NUM_SHARDS= self.config.params_train_num_shards,\n",
    "                            encoded_data=encoded_train_data,\n",
    "                            path_to_write=self.config.train_tf_records_file_path\n",
    "                            )\n",
    "            \n",
    "        if (os.path.exists(self.config.test_tf_records_dir) and \n",
    "            len(os.listdir(self.config.test_tf_records_dir)) == self.config.params_test_num_shards):\n",
    "\n",
    "            print('Test tf records already exists!') \n",
    "            \n",
    "        else:\n",
    "            print('Creating tf records for test set...') \n",
    "            write_tf_records(NUM_SHARDS= self.config.params_test_num_shards,\n",
    "                            encoded_data=encoded_val_data,\n",
    "                            path_to_write=self.config.test_tf_records_file_path\n",
    "                            )\n",
    "        \n",
    "        return \"TF Records Created Successfully for training and validation data\""
   ]
  },
  {
   "cell_type": "code",
   "execution_count": 44,
   "metadata": {},
   "outputs": [
    {
     "name": "stdout",
     "output_type": "stream",
     "text": [
      "Found 28709 files belonging to 7 classes.\n",
      "Found 7178 files belonging to 7 classes.\n",
      "Train tf records already exists!\n",
      "Creating tf records for test set...\n"
     ]
    }
   ],
   "source": [
    "try:\n",
    "    config = ConfigurationManager()\n",
    "    data_preprocessing_config = config.get_data_preprocessing_config()\n",
    "    data_preprocessing = Data_Preprocessing(config = data_preprocessing_config)\n",
    "    data_preprocessing.preprocess_and_create_tf_records()\n",
    "except Exception as e:\n",
    "    raise e"
   ]
  },
  {
   "cell_type": "code",
   "execution_count": null,
   "metadata": {},
   "outputs": [],
   "source": []
  },
  {
   "cell_type": "code",
   "execution_count": null,
   "metadata": {},
   "outputs": [],
   "source": []
  },
  {
   "cell_type": "code",
   "execution_count": null,
   "metadata": {},
   "outputs": [],
   "source": []
  },
  {
   "cell_type": "code",
   "execution_count": null,
   "metadata": {},
   "outputs": [],
   "source": []
  },
  {
   "cell_type": "code",
   "execution_count": null,
   "metadata": {},
   "outputs": [],
   "source": []
  },
  {
   "cell_type": "code",
   "execution_count": null,
   "metadata": {},
   "outputs": [],
   "source": []
  },
  {
   "cell_type": "code",
   "execution_count": null,
   "metadata": {},
   "outputs": [],
   "source": []
  },
  {
   "cell_type": "code",
   "execution_count": null,
   "metadata": {},
   "outputs": [],
   "source": []
  },
  {
   "cell_type": "code",
   "execution_count": null,
   "metadata": {},
   "outputs": [],
   "source": []
  },
  {
   "cell_type": "code",
   "execution_count": null,
   "metadata": {},
   "outputs": [],
   "source": []
  }
 ],
 "metadata": {
  "kernelspec": {
   "display_name": "py37gpu",
   "language": "python",
   "name": "python3"
  },
  "language_info": {
   "codemirror_mode": {
    "name": "ipython",
    "version": 3
   },
   "file_extension": ".py",
   "mimetype": "text/x-python",
   "name": "python",
   "nbconvert_exporter": "python",
   "pygments_lexer": "ipython3",
   "version": "3.7.2"
  },
  "orig_nbformat": 4
 },
 "nbformat": 4,
 "nbformat_minor": 2
}
